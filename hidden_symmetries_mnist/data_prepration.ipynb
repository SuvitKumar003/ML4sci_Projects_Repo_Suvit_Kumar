{
 "cells": [
  {
   "cell_type": "code",
   "execution_count": 1,
   "metadata": {},
   "outputs": [
    {
     "name": "stderr",
     "output_type": "stream",
     "text": [
      "c:\\Users\\HP\\anaconda3\\Lib\\site-packages\\torch\\utils\\_pytree.py:185: FutureWarning: optree is installed but the version is too old to support PyTorch Dynamo in C++ pytree. C++ pytree support is disabled. Please consider upgrading optree using `python3 -m pip install --upgrade 'optree>=0.13.0'`.\n",
      "  warnings.warn(\n"
     ]
    }
   ],
   "source": [
    "import numpy as np\n",
    "import torch\n",
    "from torchvision.datasets import MNIST\n",
    "from torchvision.transforms.functional import rotate\n",
    "from torch.utils.data import Dataset, DataLoader"
   ]
  },
  {
   "cell_type": "code",
   "execution_count": null,
   "metadata": {},
   "outputs": [],
   "source": [
    "\n",
    "# This code is a PyTorch dataset class that loads the MNIST dataset and applies rotations to the images.\n",
    "class RotatedMNIST(Dataset):\n",
    "    def __init__(self, root, train=True, digits=(1, 2)):\n",
    "        self.mnist = MNIST(root=root, train=train, download=True,\n",
    "                          transform=ToTensor())  # Convert to tensor upfront\n",
    "        self.indices = [i for i, (_, label) in enumerate(self.mnist) \n",
    "                      if label in digits]\n",
    "        self.angles = list(range(0, 360, 30))\n",
    "\n",
    "    def __len__(self):\n",
    "        return len(self.indices) * len(self.angles)\n",
    "\n",
    "    def __getitem__(self, idx):\n",
    "        img_idx = self.indices[idx // len(self.angles)]\n",
    "        angle = self.angles[idx % len(self.angles)]\n",
    "        img, label = self.mnist[img_idx]\n",
    "        \n",
    "        # Rotate tensor directly (no PIL conversion)\n",
    "        img_rotated = rotate(img, angle)\n",
    "        return img_rotated, label, torch.tensor(angle/360.0, dtype=torch.float32)"
   ]
  },
  {
   "cell_type": "code",
   "execution_count": 17,
   "metadata": {},
   "outputs": [],
   "source": [
    "from torchvision import datasets, transforms\n",
    "from torch.utils.data import DataLoader\n",
    "\n",
    "transform = transforms.Compose([\n",
    "    transforms.ToTensor(),  # Converts to [0, 1] range automatically\n",
    "])\n",
    "\n",
    "\n",
    "train_dataset = datasets.MNIST(root='./data', train=True, transform=transform, download=True)\n",
    "train_loader = DataLoader(train_dataset, batch_size=64, shuffle=True)\n"
   ]
  },
  {
   "cell_type": "code",
   "execution_count": 13,
   "metadata": {},
   "outputs": [],
   "source": [
    "batch_size = 128\n",
    "train_loader = DataLoader(train_dataset, batch_size=batch_size, shuffle=True)\n",
    "test_loader = DataLoader(test_dataset, batch_size=batch_size)"
   ]
  },
  {
   "cell_type": "code",
   "execution_count": 14,
   "metadata": {},
   "outputs": [],
   "source": [
    "import torch.nn as nn\n",
    "import torch.nn.functional as F"
   ]
  },
  {
   "cell_type": "code",
   "execution_count": null,
   "metadata": {},
   "outputs": [
    {
     "name": "stdout",
     "output_type": "stream",
     "text": [
      "Starting VAE Training...\n",
      "Epoch 1, Loss: 154.2721\n",
      "Epoch 2, Loss: 112.8621\n",
      "Epoch 3, Loss: 107.0420\n",
      "Epoch 4, Loss: 104.5923\n",
      "Epoch 5, Loss: 103.0775\n",
      "Epoch 6, Loss: 101.9875\n",
      "Epoch 7, Loss: 101.1702\n",
      "Epoch 8, Loss: 100.6196\n",
      "Epoch 9, Loss: 100.1122\n",
      "Epoch 10, Loss: 99.7227\n",
      "Epoch 11, Loss: 99.4339\n",
      "Epoch 12, Loss: 99.0939\n",
      "Epoch 13, Loss: 98.8460\n",
      "Epoch 14, Loss: 98.6016\n",
      "Epoch 15, Loss: 98.3999\n",
      "Epoch 16, Loss: 98.1911\n",
      "Epoch 17, Loss: 98.0220\n",
      "Epoch 18, Loss: 97.8141\n",
      "Epoch 19, Loss: 97.7028\n",
      "Epoch 20, Loss: 97.5630\n"
     ]
    }
   ],
   "source": [
    "class VAE(nn.Module):\n",
    "    def __init__(self, latent_dim=32):\n",
    "        super(VAE, self).__init__()\n",
    "        \n",
    "\n",
    "        self.encoder = nn.Sequential(\n",
    "            nn.Conv2d(1, 32, 3, stride=2, padding=1),\n",
    "            nn.ReLU(),\n",
    "            nn.Conv2d(32, 64, 3, stride=2, padding=1),\n",
    "            nn.ReLU(),\n",
    "            nn.Flatten(),\n",
    "            nn.Linear(64*7*7, 256),\n",
    "            nn.ReLU(),\n",
    "        )\n",
    "        \n",
    "        self.fc_mu = nn.Linear(256, latent_dim)\n",
    "        self.fc_var = nn.Linear(256, latent_dim)\n",
    "\n",
    "        self.decoder = nn.Sequential(\n",
    "            nn.Linear(latent_dim, 256),\n",
    "            nn.ReLU(),\n",
    "            nn.Linear(256, 64*7*7),\n",
    "            nn.ReLU(),\n",
    "            nn.Unflatten(1, (64, 7, 7)),\n",
    "            nn.ConvTranspose2d(64, 32, 3, stride=2, padding=1, output_padding=1),\n",
    "            nn.ReLU(),\n",
    "            nn.ConvTranspose2d(32, 1, 3, stride=2, padding=1, output_padding=1),\n",
    "            nn.Sigmoid(),\n",
    "        )\n",
    "\n",
    "    def encode(self, x):\n",
    "        h = self.encoder(x)\n",
    "        return self.fc_mu(h), self.fc_var(h)\n",
    "\n",
    "    def reparameterize(self, mu, logvar):\n",
    "        std = torch.exp(0.5*logvar)\n",
    "        eps = torch.randn_like(std)\n",
    "        return mu + eps*std\n",
    "\n",
    "    def decode(self, z):\n",
    "        return self.decoder(z)\n",
    "\n",
    "    def forward(self, x):\n",
    "        mu, logvar = self.encode(x)\n",
    "        z = self.reparameterize(mu, logvar)\n",
    "        return self.decode(z), mu, logvar\n",
    "\n",
    "def vae_loss(recon_x, x, mu, logvar):\n",
    "    BCE = F.binary_cross_entropy(recon_x, x, reduction='sum')\n",
    "    KLD = -0.5 * torch.sum(1 + logvar - mu.pow(2) - logvar.exp())\n",
    "    return BCE + KLD\n",
    "\n",
    "device = torch.device(\"cuda\" if torch.cuda.is_available() else \"cpu\")\n",
    "model = VAE(latent_dim=32).to(device)\n",
    "optimizer = torch.optim.Adam(model.parameters(), lr=1e-3)\n",
    "\n",
    "\n",
    "print(\"Starting VAE Training...\")\n",
    "for epoch in range(20):\n",
    "    model.train()\n",
    "    train_loss = 0\n",
    "    for batch_idx, (data, _) in enumerate(train_loader):\n",
    "        data = data.to(device)  \n",
    "        optimizer.zero_grad()\n",
    "        \n",
    "        recon_batch, mu, logvar = model(data)\n",
    "        loss = vae_loss(recon_batch, data, mu, logvar)\n",
    "        \n",
    "        loss.backward()\n",
    "        train_loss += loss.item()\n",
    "        optimizer.step()\n",
    "        \n",
    "    print(f'Epoch {epoch+1}, Loss: {train_loss/len(train_loader.dataset):.4f}')"
   ]
  },
  {
   "cell_type": "code",
   "execution_count": 19,
   "metadata": {},
   "outputs": [],
   "source": [
    "torch.save(model.state_dict(), \"vae_mnist.pth\")\n"
   ]
  },
  {
   "cell_type": "code",
   "execution_count": null,
   "metadata": {},
   "outputs": [
    {
     "data": {
      "text/plain": [
       "VAE(\n",
       "  (encoder): Sequential(\n",
       "    (0): Conv2d(1, 32, kernel_size=(3, 3), stride=(2, 2), padding=(1, 1))\n",
       "    (1): ReLU()\n",
       "    (2): Conv2d(32, 64, kernel_size=(3, 3), stride=(2, 2), padding=(1, 1))\n",
       "    (3): ReLU()\n",
       "    (4): Flatten(start_dim=1, end_dim=-1)\n",
       "    (5): Linear(in_features=3136, out_features=256, bias=True)\n",
       "    (6): ReLU()\n",
       "  )\n",
       "  (fc_mu): Linear(in_features=256, out_features=32, bias=True)\n",
       "  (fc_var): Linear(in_features=256, out_features=32, bias=True)\n",
       "  (decoder): Sequential(\n",
       "    (0): Linear(in_features=32, out_features=256, bias=True)\n",
       "    (1): ReLU()\n",
       "    (2): Linear(in_features=256, out_features=3136, bias=True)\n",
       "    (3): ReLU()\n",
       "    (4): Unflatten(dim=1, unflattened_size=(64, 7, 7))\n",
       "    (5): ConvTranspose2d(64, 32, kernel_size=(3, 3), stride=(2, 2), padding=(1, 1), output_padding=(1, 1))\n",
       "    (6): ReLU()\n",
       "    (7): ConvTranspose2d(32, 1, kernel_size=(3, 3), stride=(2, 2), padding=(1, 1), output_padding=(1, 1))\n",
       "    (8): Sigmoid()\n",
       "  )\n",
       ")"
      ]
     },
     "execution_count": 20,
     "metadata": {},
     "output_type": "execute_result"
    }
   ],
   "source": [
    "model.load_state_dict(torch.load(\"vae_mnist.pth\"))\n",
    "model.train()  \n"
   ]
  },
  {
   "cell_type": "code",
   "execution_count": null,
   "metadata": {},
   "outputs": [
    {
     "name": "stdout",
     "output_type": "stream",
     "text": [
      "Epoch 21, Loss: 97.4159\n",
      "Epoch 22, Loss: 97.3002\n",
      "Epoch 23, Loss: 97.1484\n",
      "Epoch 24, Loss: 97.0593\n",
      "Epoch 25, Loss: 96.8989\n",
      "Epoch 26, Loss: 96.7997\n",
      "Epoch 27, Loss: 96.7098\n",
      "Epoch 28, Loss: 96.6413\n",
      "Epoch 29, Loss: 96.5300\n",
      "Epoch 30, Loss: 96.4831\n"
     ]
    }
   ],
   "source": [
    "for epoch in range(21, 31):  \n",
    "    train_loss = 0\n",
    "    for batch_idx, (data, _) in enumerate(train_loader):\n",
    "        data = data.to(device)\n",
    "        optimizer.zero_grad()\n",
    "        \n",
    "        recon_batch, mu, logvar = model(data)\n",
    "        loss = vae_loss(recon_batch, data, mu, logvar)\n",
    "        \n",
    "        loss.backward()\n",
    "        train_loss += loss.item()\n",
    "        optimizer.step()\n",
    "    \n",
    "    print(f'Epoch {epoch}, Loss: {train_loss/len(train_loader.dataset):.4f}')\n"
   ]
  },
  {
   "cell_type": "code",
   "execution_count": 76,
   "metadata": {},
   "outputs": [
    {
     "ename": "ValueError",
     "evalue": "not enough values to unpack (expected 3, got 2)",
     "output_type": "error",
     "traceback": [
      "\u001b[1;31m---------------------------------------------------------------------------\u001b[0m",
      "\u001b[1;31mValueError\u001b[0m                                Traceback (most recent call last)",
      "Cell \u001b[1;32mIn[76], line 6\u001b[0m\n\u001b[0;32m      3\u001b[0m angles \u001b[38;5;241m=\u001b[39m []\n\u001b[0;32m      5\u001b[0m \u001b[38;5;28;01mwith\u001b[39;00m torch\u001b[38;5;241m.\u001b[39mno_grad():\n\u001b[1;32m----> 6\u001b[0m     \u001b[38;5;28;01mfor\u001b[39;00m data, _, angle \u001b[38;5;129;01min\u001b[39;00m train_loader:  \u001b[38;5;66;03m# Assuming your dataset returns (image, label, angle)\u001b[39;00m\n\u001b[0;32m      7\u001b[0m         data \u001b[38;5;241m=\u001b[39m data\u001b[38;5;241m.\u001b[39mto(device)\n\u001b[0;32m      8\u001b[0m         mu, logvar \u001b[38;5;241m=\u001b[39m model\u001b[38;5;241m.\u001b[39mencode(data)\n",
      "\u001b[1;31mValueError\u001b[0m: not enough values to unpack (expected 3, got 2)"
     ]
    }
   ],
   "source": [
    "# Extract latent representations for training the MLP\n",
    "latent_vectors = []\n",
    "angles = []\n",
    "\n",
    "with torch.no_grad():\n",
    "    for data, _, angle in train_loader:  # Assuming your dataset returns (image, label, angle)\n",
    "        data = data.to(device)\n",
    "        mu, logvar = model.encode(data)\n",
    "        z = model.reparameterize(mu, logvar)\n",
    "        \n",
    "        latent_vectors.append(z.cpu())\n",
    "        angles.append(angle.cpu())\n",
    "\n",
    "latent_vectors = torch.cat(latent_vectors, dim=0)\n",
    "angles = torch.cat(angles, dim=0)\n",
    "\n",
    "# Define the MLP for learning transformations in latent space\n",
    "import torch.nn as nn\n",
    "\n",
    "class MLP(nn.Module):\n",
    "    def __init__(self, latent_dim=32):\n",
    "        super(MLP, self).__init__()\n",
    "        self.model = nn.Sequential(\n",
    "            nn.Linear(latent_dim, 64),\n",
    "            nn.ReLU(),\n",
    "            nn.Linear(64, 64),\n",
    "            nn.ReLU(),\n",
    "            nn.Linear(64, latent_dim)  # Output should be the same size as latent_dim\n",
    "        )\n",
    "\n",
    "    def forward(self, x):\n",
    "        return self.model(x)\n",
    "\n",
    "mlp = MLP(latent_dim=32).to(device)\n",
    "mlp_optimizer = torch.optim.Adam(mlp.parameters(), lr=1e-3)\n",
    "criterion = nn.MSELoss()\n",
    "\n",
    "# Train the MLP\n",
    "epochs = 20\n",
    "for epoch in range(epochs):\n",
    "    total_loss = 0\n",
    "    for i in range(len(latent_vectors)):\n",
    "        z = latent_vectors[i].to(device)\n",
    "        angle = angles[i].to(device)\n",
    "\n",
    "        mlp_optimizer.zero_grad()\n",
    "        \n",
    "        z_rotated = mlp(z)  # Predict transformed latent vector\n",
    "        loss = criterion(z_rotated, z)  # Compare with original latent vector (self-supervised)\n",
    "        \n",
    "        loss.backward()\n",
    "        mlp_optimizer.step()\n",
    "        \n",
    "        total_loss += loss.item()\n",
    "\n",
    "    print(f\"Epoch {epoch+1}/{epochs}, Loss: {total_loss/len(latent_vectors):.4f}\")\n",
    "\n",
    "# Save the trained MLP model\n",
    "torch.save(mlp.state_dict(), \"mlp_symmetry.pth\")\n"
   ]
  },
  {
   "cell_type": "code",
   "execution_count": null,
   "metadata": {},
   "outputs": [],
   "source": [
    "import torch\n",
    "import torch.nn as nn\n",
    "\n",
    "class VAE(nn.Module):\n",
    "    def __init__(self, latent_dim=32):\n",
    "        super(VAE, self).__init__()\n",
    "\n",
    "        self.encoder = nn.Sequential(\n",
    "            nn.Conv2d(1, 32, kernel_size=3, stride=1, padding=1),\n",
    "            nn.ReLU(),\n",
    "            nn.Conv2d(32, 64, kernel_size=3, stride=2, padding=1),\n",
    "            nn.ReLU()\n",
    "        )\n",
    "\n",
    "        self.encoder_fc = nn.Linear(12544, 256)  \n",
    "        self.fc_mu = nn.Linear(256, latent_dim)\n",
    "        self.fc_var = nn.Linear(256, latent_dim)\n",
    "\n",
    "        # Decoder\n",
    "        self.decoder_fc = nn.Linear(latent_dim, 256)\n",
    "        self.decoder_upsample = nn.Linear(256, 12544)  \n",
    "\n",
    "        self.decoder = nn.Sequential(\n",
    "            nn.ConvTranspose2d(64, 32, kernel_size=3, stride=2, padding=1, output_padding=1),\n",
    "            nn.ReLU(),\n",
    "            nn.ConvTranspose2d(32, 1, kernel_size=3, stride=1, padding=1),\n",
    "            nn.Sigmoid()\n",
    "        )\n",
    "\n",
    "    def reparameterize(self, mu, log_var):\n",
    "        std = torch.exp(0.5 * log_var)\n",
    "        eps = torch.randn_like(std)\n",
    "        return mu + eps * std\n",
    "\n",
    "    def encode(self, x):\n",
    "        x = self.encoder(x)\n",
    "        x = torch.flatten(x, start_dim=1)  \n",
    "        x = self.encoder_fc(x)\n",
    "        return self.fc_mu(x), self.fc_var(x)\n",
    "\n",
    "    def decode(self, z):\n",
    "        x = self.decoder_fc(z)\n",
    "        x = self.decoder_upsample(x)\n",
    "        x = x.view(-1, 64, 14, 14)  \n",
    "        x = self.decoder(x)\n",
    "        return x\n",
    "\n",
    "    def forward(self, x):\n",
    "        mu, log_var = self.encode(x)\n",
    "        z = self.reparameterize(mu, log_var)\n",
    "        recon_x = self.decode(z)\n",
    "        return recon_x, mu, log_var  "
   ]
  },
  {
   "cell_type": "code",
   "execution_count": null,
   "metadata": {},
   "outputs": [
    {
     "data": {
      "text/plain": [
       "<All keys matched successfully>"
      ]
     },
     "execution_count": 58,
     "metadata": {},
     "output_type": "execute_result"
    }
   ],
   "source": [
    "vae = VAE()\n",
    "checkpoint = torch.load(\"vae_mnist.pth\", map_location=device)\n",
    "model_dict = vae.state_dict()\n",
    "\n",
    "filtered_checkpoint = {k: v for k, v in checkpoint.items() if k in model_dict and v.shape == model_dict[k].shape}\n",
    "\n",
    "model_dict.update(filtered_checkpoint)\n",
    "vae.load_state_dict(model_dict)\n"
   ]
  },
  {
   "cell_type": "code",
   "execution_count": null,
   "metadata": {},
   "outputs": [
    {
     "name": "stdout",
     "output_type": "stream",
     "text": [
      "torch.Size([1, 1, 28, 28])\n"
     ]
    }
   ],
   "source": [
    "with torch.no_grad():\n",
    "    recon_x, _, _ = vae(sample_input)  \n",
    "print(recon_x.shape)  \n"
   ]
  },
  {
   "cell_type": "code",
   "execution_count": null,
   "metadata": {},
   "outputs": [
    {
     "data": {
      "image/png": "[encoded data removed]",
      "text/plain": [
       "<Figure size 640x480 with 2 Axes>"
      ]
     },
     "metadata": {},
     "output_type": "display_data"
    }
   ],
   "source": [
    "import matplotlib.pyplot as plt\n",
    "\n",
    "with torch.no_grad():\n",
    "    recon_x, _, _ = vae(sample_input)\n",
    "\n",
    "input_img = sample_input.cpu().squeeze().numpy()\n",
    "recon_img = recon_x.cpu().squeeze().numpy()\n",
    "\n",
    "fig, ax = plt.subplots(1, 2)\n",
    "ax[0].imshow(input_img, cmap='gray')\n",
    "ax[0].set_title(\"Original Image\")\n",
    "ax[0].axis(\"off\")\n",
    "\n",
    "ax[1].imshow(recon_img, cmap='gray')\n",
    "ax[1].set_title(\"Reconstructed Image\")\n",
    "ax[1].axis(\"off\")\n",
    "\n",
    "plt.show()\n"
   ]
  },
  {
   "cell_type": "code",
   "execution_count": null,
   "metadata": {},
   "outputs": [],
   "source": [
    "import torch\n",
    "import numpy as np\n",
    "import matplotlib.pyplot as plt\n",
    "from sklearn.decomposition import PCA\n",
    "from sklearn.cluster import KMeans\n",
    "\n",
    "def get_latent_vectors(vae, dataloader, device=\"cuda\"):\n",
    "    vae.eval()\n",
    "    latent_vectors = []\n",
    "    with torch.no_grad():\n",
    "        for imgs, _ in dataloader:\n",
    "            imgs = imgs.to(device)\n",
    "            mean, logvar = vae.encoder(imgs)\n",
    "            z = vae.reparameterize(mean, logvar)\n",
    "            latent_vectors.append(z.cpu().numpy())\n",
    "    return np.concatenate(latent_vectors, axis=0)\n",
    "\n",
    "def visualize_pca(latent_vectors):\n",
    "    pca = PCA(n_components=2)\n",
    "    reduced = pca.fit_transform(latent_vectors)\n",
    "    plt.scatter(reduced[:, 0], reduced[:, 1], alpha=0.5)\n",
    "    plt.title(\"PCA of Latent Space\")\n",
    "    plt.xlabel(\"Principal Component 1\")\n",
    "    plt.ylabel(\"Principal Component 2\")\n",
    "    plt.show()\n",
    "\n",
    "def cluster_latent_space(latent_vectors, n_clusters=4):\n",
    "    kmeans = KMeans(n_clusters=n_clusters, random_state=42)\n",
    "    labels = kmeans.fit_predict(latent_vectors)\n",
    "    return labels\n",
    "\n",
    "# Usage:\n",
    "# latent_vectors = get_latent_vectors(trained_vae, test_dataloader)\n",
    "# visualize_pca(latent_vectors)\n",
    "# labels = cluster_latent_space(latent_vectors)\n",
    "# print(\"Cluster Labels:\", labels)\n"
   ]
  },
  {
   "cell_type": "code",
   "execution_count": null,
   "metadata": {},
   "outputs": [
    {
     "name": "stdout",
     "output_type": "stream",
     "text": [
      "odict_keys(['encoder.0.weight', 'encoder.0.bias', 'encoder.2.weight', 'encoder.2.bias', 'encoder.5.weight', 'encoder.5.bias', 'fc_mu.weight', 'fc_mu.bias', 'fc_var.weight', 'fc_var.bias', 'decoder.0.weight', 'decoder.0.bias', 'decoder.2.weight', 'decoder.2.bias', 'decoder.5.weight', 'decoder.5.bias', 'decoder.7.weight', 'decoder.7.bias'])\n"
     ]
    }
   ],
   "source": [
    "checkpoint = torch.load(\"vae_mnist.pth\")\n",
    "print(checkpoint.keys())  \n"
   ]
  },
  {
   "cell_type": "code",
   "execution_count": 67,
   "metadata": {},
   "outputs": [
    {
     "name": "stdout",
     "output_type": "stream",
     "text": [
      "VAE(\n",
      "  (encoder): Sequential(\n",
      "    (0): Conv2d(1, 32, kernel_size=(3, 3), stride=(1, 1), padding=(1, 1))\n",
      "    (1): ReLU()\n",
      "    (2): Conv2d(32, 64, kernel_size=(3, 3), stride=(2, 2), padding=(1, 1))\n",
      "    (3): ReLU()\n",
      "  )\n",
      "  (encoder_fc): Linear(in_features=12544, out_features=256, bias=True)\n",
      "  (fc_mu): Linear(in_features=256, out_features=32, bias=True)\n",
      "  (fc_var): Linear(in_features=256, out_features=32, bias=True)\n",
      "  (decoder_fc): Linear(in_features=32, out_features=256, bias=True)\n",
      "  (decoder_upsample): Linear(in_features=256, out_features=12544, bias=True)\n",
      "  (decoder): Sequential(\n",
      "    (0): ConvTranspose2d(64, 32, kernel_size=(3, 3), stride=(2, 2), padding=(1, 1), output_padding=(1, 1))\n",
      "    (1): ReLU()\n",
      "    (2): ConvTranspose2d(32, 1, kernel_size=(3, 3), stride=(1, 1), padding=(1, 1))\n",
      "    (3): Sigmoid()\n",
      "  )\n",
      ")\n"
     ]
    }
   ],
   "source": [
    "print(vae)"
   ]
  },
  {
   "cell_type": "code",
   "execution_count": null,
   "metadata": {},
   "outputs": [
    {
     "name": "stdout",
     "output_type": "stream",
     "text": [
      "✅ Fixed model saved as 'vae_mnist_fixed.pth'. Now, load this into your VAE class.\n"
     ]
    }
   ],
   "source": [
    "import torch\n",
    "\n",
    "old_state_dict = torch.load(\"vae_mnist.pth\")\n",
    "\n",
    "new_state_dict = {}\n",
    "\n",
    "for key in old_state_dict.keys():\n",
    "    new_key = key  \n",
    "\n",
    "    if \"encoder.5\" in key:  # Fix missing layer issue\n",
    "        new_key = key.replace(\"encoder.5\", \"encoder.3\")  \n",
    "\n",
    "    # Fix decoder layer names\n",
    "    if \"decoder.5\" in key:\n",
    "        new_key = key.replace(\"decoder.5\", \"decoder.3\")\n",
    "    if \"decoder.7\" in key:\n",
    "        new_key = key.replace(\"decoder.7\", \"decoder.4\")  # Adjust numbering\n",
    "\n",
    "    # Fix decoder_fc and decoder_upsample (remove if necessary)\n",
    "    if \"decoder_fc\" in key or \"decoder_upsample\" in key:\n",
    "        continue  # Skip these keys, as they don't exist in the saved model\n",
    "\n",
    "    # Add the fixed key-value pair to the new dictionary\n",
    "    new_state_dict[new_key] = old_state_dict[key]\n",
    "\n",
    "# Save the corrected state dictionary\n",
    "torch.save(new_state_dict, \"vae_mnist_fixed.pth\")\n",
    "\n",
    "print(\"✅ Fixed model saved as 'vae_mnist_fixed.pth'. Now, load this into your VAE class.\")\n"
   ]
  },
  {
   "cell_type": "code",
   "execution_count": 69,
   "metadata": {},
   "outputs": [
    {
     "ename": "RuntimeError",
     "evalue": "Error(s) in loading state_dict for VAE:\n\tMissing key(s) in state_dict: \"encoder_fc.weight\", \"encoder_fc.bias\", \"decoder_fc.weight\", \"decoder_fc.bias\", \"decoder_upsample.weight\", \"decoder_upsample.bias\". \n\tUnexpected key(s) in state_dict: \"encoder.3.weight\", \"encoder.3.bias\", \"decoder.4.weight\", \"decoder.4.bias\", \"decoder.3.weight\", \"decoder.3.bias\". \n\tsize mismatch for decoder.0.weight: copying a param with shape torch.Size([256, 32]) from checkpoint, the shape in current model is torch.Size([64, 32, 3, 3]).\n\tsize mismatch for decoder.0.bias: copying a param with shape torch.Size([256]) from checkpoint, the shape in current model is torch.Size([32]).\n\tsize mismatch for decoder.2.weight: copying a param with shape torch.Size([3136, 256]) from checkpoint, the shape in current model is torch.Size([32, 1, 3, 3]).\n\tsize mismatch for decoder.2.bias: copying a param with shape torch.Size([3136]) from checkpoint, the shape in current model is torch.Size([1]).",
     "output_type": "error",
     "traceback": [
      "\u001b[1;31m---------------------------------------------------------------------------\u001b[0m",
      "\u001b[1;31mRuntimeError\u001b[0m                              Traceback (most recent call last)",
      "Cell \u001b[1;32mIn[69], line 2\u001b[0m\n\u001b[0;32m      1\u001b[0m trained_vae \u001b[38;5;241m=\u001b[39m VAE(latent_dim\u001b[38;5;241m=\u001b[39m\u001b[38;5;241m32\u001b[39m)  \u001b[38;5;66;03m# Ensure latent_dim matches\u001b[39;00m\n\u001b[1;32m----> 2\u001b[0m \u001b[43mtrained_vae\u001b[49m\u001b[38;5;241;43m.\u001b[39;49m\u001b[43mload_state_dict\u001b[49m\u001b[43m(\u001b[49m\u001b[43mtorch\u001b[49m\u001b[38;5;241;43m.\u001b[39;49m\u001b[43mload\u001b[49m\u001b[43m(\u001b[49m\u001b[38;5;124;43m\"\u001b[39;49m\u001b[38;5;124;43mvae_mnist_fixed.pth\u001b[39;49m\u001b[38;5;124;43m\"\u001b[39;49m\u001b[43m)\u001b[49m\u001b[43m,\u001b[49m\u001b[43m \u001b[49m\u001b[43mstrict\u001b[49m\u001b[38;5;241;43m=\u001b[39;49m\u001b[38;5;28;43;01mTrue\u001b[39;49;00m\u001b[43m)\u001b[49m  \u001b[38;5;66;03m# strict=True should now work\u001b[39;00m\n\u001b[0;32m      3\u001b[0m trained_vae\u001b[38;5;241m.\u001b[39mto(\u001b[38;5;124m\"\u001b[39m\u001b[38;5;124mcuda\u001b[39m\u001b[38;5;124m\"\u001b[39m)  \u001b[38;5;66;03m# Move to GPU if available\u001b[39;00m\n\u001b[0;32m      4\u001b[0m trained_vae\u001b[38;5;241m.\u001b[39meval()  \u001b[38;5;66;03m# Set to evaluation mode\u001b[39;00m\n",
      "File \u001b[1;32mc:\\Users\\HP\\anaconda3\\Lib\\site-packages\\torch\\nn\\modules\\module.py:2581\u001b[0m, in \u001b[0;36mModule.load_state_dict\u001b[1;34m(self, state_dict, strict, assign)\u001b[0m\n\u001b[0;32m   2573\u001b[0m         error_msgs\u001b[38;5;241m.\u001b[39minsert(\n\u001b[0;32m   2574\u001b[0m             \u001b[38;5;241m0\u001b[39m,\n\u001b[0;32m   2575\u001b[0m             \u001b[38;5;124m\"\u001b[39m\u001b[38;5;124mMissing key(s) in state_dict: \u001b[39m\u001b[38;5;132;01m{}\u001b[39;00m\u001b[38;5;124m. \u001b[39m\u001b[38;5;124m\"\u001b[39m\u001b[38;5;241m.\u001b[39mformat(\n\u001b[0;32m   2576\u001b[0m                 \u001b[38;5;124m\"\u001b[39m\u001b[38;5;124m, \u001b[39m\u001b[38;5;124m\"\u001b[39m\u001b[38;5;241m.\u001b[39mjoin(\u001b[38;5;124mf\u001b[39m\u001b[38;5;124m'\u001b[39m\u001b[38;5;124m\"\u001b[39m\u001b[38;5;132;01m{\u001b[39;00mk\u001b[38;5;132;01m}\u001b[39;00m\u001b[38;5;124m\"\u001b[39m\u001b[38;5;124m'\u001b[39m \u001b[38;5;28;01mfor\u001b[39;00m k \u001b[38;5;129;01min\u001b[39;00m missing_keys)\n\u001b[0;32m   2577\u001b[0m             ),\n\u001b[0;32m   2578\u001b[0m         )\n\u001b[0;32m   2580\u001b[0m \u001b[38;5;28;01mif\u001b[39;00m \u001b[38;5;28mlen\u001b[39m(error_msgs) \u001b[38;5;241m>\u001b[39m \u001b[38;5;241m0\u001b[39m:\n\u001b[1;32m-> 2581\u001b[0m     \u001b[38;5;28;01mraise\u001b[39;00m \u001b[38;5;167;01mRuntimeError\u001b[39;00m(\n\u001b[0;32m   2582\u001b[0m         \u001b[38;5;124m\"\u001b[39m\u001b[38;5;124mError(s) in loading state_dict for \u001b[39m\u001b[38;5;132;01m{}\u001b[39;00m\u001b[38;5;124m:\u001b[39m\u001b[38;5;130;01m\\n\u001b[39;00m\u001b[38;5;130;01m\\t\u001b[39;00m\u001b[38;5;132;01m{}\u001b[39;00m\u001b[38;5;124m\"\u001b[39m\u001b[38;5;241m.\u001b[39mformat(\n\u001b[0;32m   2583\u001b[0m             \u001b[38;5;28mself\u001b[39m\u001b[38;5;241m.\u001b[39m\u001b[38;5;18m__class__\u001b[39m\u001b[38;5;241m.\u001b[39m\u001b[38;5;18m__name__\u001b[39m, \u001b[38;5;124m\"\u001b[39m\u001b[38;5;130;01m\\n\u001b[39;00m\u001b[38;5;130;01m\\t\u001b[39;00m\u001b[38;5;124m\"\u001b[39m\u001b[38;5;241m.\u001b[39mjoin(error_msgs)\n\u001b[0;32m   2584\u001b[0m         )\n\u001b[0;32m   2585\u001b[0m     )\n\u001b[0;32m   2586\u001b[0m \u001b[38;5;28;01mreturn\u001b[39;00m _IncompatibleKeys(missing_keys, unexpected_keys)\n",
      "\u001b[1;31mRuntimeError\u001b[0m: Error(s) in loading state_dict for VAE:\n\tMissing key(s) in state_dict: \"encoder_fc.weight\", \"encoder_fc.bias\", \"decoder_fc.weight\", \"decoder_fc.bias\", \"decoder_upsample.weight\", \"decoder_upsample.bias\". \n\tUnexpected key(s) in state_dict: \"encoder.3.weight\", \"encoder.3.bias\", \"decoder.4.weight\", \"decoder.4.bias\", \"decoder.3.weight\", \"decoder.3.bias\". \n\tsize mismatch for decoder.0.weight: copying a param with shape torch.Size([256, 32]) from checkpoint, the shape in current model is torch.Size([64, 32, 3, 3]).\n\tsize mismatch for decoder.0.bias: copying a param with shape torch.Size([256]) from checkpoint, the shape in current model is torch.Size([32]).\n\tsize mismatch for decoder.2.weight: copying a param with shape torch.Size([3136, 256]) from checkpoint, the shape in current model is torch.Size([32, 1, 3, 3]).\n\tsize mismatch for decoder.2.bias: copying a param with shape torch.Size([3136]) from checkpoint, the shape in current model is torch.Size([1])."
     ]
    }
   ],
   "source": [
    "trained_vae = VAE(latent_dim=32)  # Ensure latent_dim matches\n",
    "trained_vae.load_state_dict(torch.load(\"vae_mnist_fixed.pth\"), strict=True)  # strict=True should now work\n",
    "trained_vae.to(\"cuda\")  # Move to GPU if available\n",
    "trained_vae.eval()  # Set to evaluation mode\n"
   ]
  },
  {
   "cell_type": "code",
   "execution_count": 72,
   "metadata": {},
   "outputs": [
    {
     "name": "stdout",
     "output_type": "stream",
     "text": [
      "CUDA Available: False\n"
     ]
    }
   ],
   "source": [
    "import torch\n",
    "print(\"CUDA Available:\", torch.cuda.is_available())\n"
   ]
  },
  {
   "cell_type": "code",
   "execution_count": 63,
   "metadata": {},
   "outputs": [
    {
     "ename": "NameError",
     "evalue": "name 'trained_vae' is not defined",
     "output_type": "error",
     "traceback": [
      "\u001b[1;31m---------------------------------------------------------------------------\u001b[0m",
      "\u001b[1;31mNameError\u001b[0m                                 Traceback (most recent call last)",
      "Cell \u001b[1;32mIn[63], line 57\u001b[0m\n\u001b[0;32m     53\u001b[0m     \u001b[38;5;28;01mreturn\u001b[39;00m mean_distance\n\u001b[0;32m     55\u001b[0m \u001b[38;5;66;03m# Steps to execute:\u001b[39;00m\n\u001b[0;32m     56\u001b[0m \u001b[38;5;66;03m# 1. Extract latent vectors for original and rotated images\u001b[39;00m\n\u001b[1;32m---> 57\u001b[0m latent_vectors, rotated_latent_vectors, img_labels \u001b[38;5;241m=\u001b[39m get_latent_vectors(\u001b[43mtrained_vae\u001b[49m, test_dataloader)\n\u001b[0;32m     59\u001b[0m \u001b[38;5;66;03m# 2. Visualize latent space\u001b[39;00m\n\u001b[0;32m     60\u001b[0m visualize_pca(latent_vectors, img_labels, title\u001b[38;5;241m=\u001b[39m\u001b[38;5;124m\"\u001b[39m\u001b[38;5;124mOriginal Latent Space\u001b[39m\u001b[38;5;124m\"\u001b[39m)\n",
      "\u001b[1;31mNameError\u001b[0m: name 'trained_vae' is not defined"
     ]
    }
   ],
   "source": [
    "import torch\n",
    "import numpy as np\n",
    "import matplotlib.pyplot as plt\n",
    "from sklearn.decomposition import PCA\n",
    "from sklearn.cluster import KMeans\n",
    "from scipy.spatial.distance import cdist\n",
    "\n",
    "# Assuming we have a trained VAE encoder\n",
    "# Function to extract latent representations\n",
    "def get_latent_vectors(vae, dataloader, device=\"cuda\"):\n",
    "    vae.eval()\n",
    "    latent_vectors = []\n",
    "    rotated_latent_vectors = []\n",
    "    labels_list = []\n",
    "    with torch.no_grad():\n",
    "        for imgs, labels in dataloader:\n",
    "            imgs = imgs.to(device)\n",
    "            mean, logvar = vae.encoder(imgs)\n",
    "            z = vae.reparameterize(mean, logvar)\n",
    "            latent_vectors.append(z.cpu().numpy())\n",
    "            labels_list.append(labels.numpy())\n",
    "\n",
    "            # Rotate images by 30 degrees and get new latent vectors\n",
    "            rotated_imgs = torch.rot90(imgs, k=1, dims=[2, 3])  # 90-degree rotation as an example\n",
    "            mean_r, logvar_r = vae.encoder(rotated_imgs)\n",
    "            z_rotated = vae.reparameterize(mean_r, logvar_r)\n",
    "            rotated_latent_vectors.append(z_rotated.cpu().numpy())\n",
    "    \n",
    "    return np.concatenate(latent_vectors, axis=0), np.concatenate(rotated_latent_vectors, axis=0), np.concatenate(labels_list, axis=0)\n",
    "\n",
    "# Perform PCA to visualize the latent space\n",
    "def visualize_pca(latent_vectors, labels, title=\"PCA of Latent Space\"):\n",
    "    pca = PCA(n_components=2)\n",
    "    reduced = pca.fit_transform(latent_vectors)\n",
    "    plt.scatter(reduced[:, 0], reduced[:, 1], c=labels, cmap='viridis', alpha=0.5)\n",
    "    plt.title(title)\n",
    "    plt.xlabel(\"Principal Component 1\")\n",
    "    plt.ylabel(\"Principal Component 2\")\n",
    "    plt.colorbar()\n",
    "    plt.show()\n",
    "\n",
    "# Perform clustering to find symmetry patterns\n",
    "def cluster_latent_space(latent_vectors, n_clusters=4):\n",
    "    kmeans = KMeans(n_clusters=n_clusters, random_state=42)\n",
    "    labels = kmeans.fit_predict(latent_vectors)\n",
    "    return labels, kmeans.cluster_centers_\n",
    "\n",
    "# Validate discovered symmetries by comparing rotated cluster assignments\n",
    "def validate_symmetry(original_centers, rotated_centers):\n",
    "    distances = cdist(original_centers, rotated_centers, metric='euclidean')\n",
    "    mean_distance = np.mean(np.min(distances, axis=1))\n",
    "    print(f\"Mean distance between original and rotated clusters: {mean_distance}\")\n",
    "    return mean_distance\n",
    "\n",
    "# Steps to execute:\n",
    "# 1. Extract latent vectors for original and rotated images\n",
    "latent_vectors, rotated_latent_vectors, img_labels = get_latent_vectors(trained_vae, test_dataloader)\n",
    "\n",
    "# 2. Visualize latent space\n",
    "visualize_pca(latent_vectors, img_labels, title=\"Original Latent Space\")\n",
    "visualize_pca(rotated_latent_vectors, img_labels, title=\"Rotated Latent Space\")\n",
    "\n",
    "# 3. Perform clustering\n",
    "cluster_labels, cluster_centers = cluster_latent_space(latent_vectors)\n",
    "rotated_cluster_labels, rotated_cluster_centers = cluster_latent_space(rotated_latent_vectors)\n",
    "\n",
    "# 4. Validate symmetry\n",
    "mean_dist = validate_symmetry(cluster_centers, rotated_cluster_centers)"
   ]
  },
  {
   "cell_type": "markdown",
   "metadata": {},
   "source": [
    "bekar"
   ]
  }
 ],
 "metadata": {
  "kernelspec": {
   "display_name": "base",
   "language": "python",
   "name": "python3"
  },
  "language_info": {
   "codemirror_mode": {
    "name": "ipython",
    "version": 3
   },
   "file_extension": ".py",
   "mimetype": "text/x-python",
   "name": "python",
   "nbconvert_exporter": "python",
   "pygments_lexer": "ipython3",
   "version": "3.11.5"
  }
 },
 "nbformat": 4,
 "nbformat_minor": 2
}
